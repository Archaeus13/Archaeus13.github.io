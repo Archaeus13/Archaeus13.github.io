{
 "cells": [
  {
   "cell_type": "code",
   "execution_count": 408,
   "metadata": {},
   "outputs": [],
   "source": [
    "import pywt\n",
    "import numpy as np"
   ]
  },
  {
   "cell_type": "markdown",
   "metadata": {},
   "source": [
    "### 问题定义"
   ]
  },
  {
   "cell_type": "code",
   "execution_count": 409,
   "metadata": {},
   "outputs": [],
   "source": [
    "# - (alpha u')' + beta u = f\n",
    "\n",
    "def alpha(x):\n",
    "    return x * 0 + 1\n",
    "\n",
    "def beta(x):\n",
    "    return x * 0 - 1\n",
    "\n",
    "def f(x):\n",
    "    return (np.pi ** 2 / 9 - 4) * np.sin(np.pi / 6 * x) + (np.pi ** 2 / 4 - 1) * np.sin(np.pi / 2 * x)\n",
    "    # return - 2 - x ** 2\n",
    "\n",
    "# u(a) = c, u(b) = d\n",
    "# a < x < b\n",
    "\n",
    "a = 1\n",
    "b = 2\n",
    "c = 3\n",
    "d = 2 * np.sqrt(3)"
   ]
  },
  {
   "cell_type": "markdown",
   "metadata": {},
   "source": [
    "### 求解与重构"
   ]
  },
  {
   "cell_type": "code",
   "execution_count": 410,
   "metadata": {},
   "outputs": [],
   "source": [
    "# v(0) = c, v(2N-1) = d, 其余不变\n",
    "def simple_wavelet_solve(alpha, beta, f, c : float, d : float, N : int, p : int, m : int):\n",
    "    \n",
    "    phi = np.array(pywt.Wavelet('db' + str(N)).wavefun(m)[0])\n",
    "    # phi[i] = phi(i / 2^m)\n",
    "    # i 从 0 到 (2N - 1) * 2^m\n",
    "\n",
    "    M = 2 ** p * (2 * N - 1) - 2 * N + 2\n",
    "    # 下标 0 到 2^p(2N-1) - 2N + 1 \n",
    "    # 下标 j 表示 supp 为 j / 2^p 到 (2N-1+j) / 2^p 的 基\n",
    "    # phi_{p,j}(x) = 2^(p/2) phi(2^p x - j)\n",
    "\n",
    "    phi = phi * 2 ** (p / 2)\n",
    "    # phi[i] = phi_{p,0}( i / 2 ^ (m + p) )\n",
    "\n",
    "    dphi = phi.copy() # copy 是复制 否则会复制指针\n",
    "    dphi[1:-1] = (phi[2:] - phi[0:-2]) * 2 ** (m + p - 1)\n",
    "    # f'(x) 用 (f(x + h) - f(x - h)) / 2h 估算\n",
    "    # dphi[i] = phi_{p,0}'( i / 2 ^ (m + p) )\n",
    "\n",
    "    # construct A\n",
    "    A = np.zeros([M, M])\n",
    "    for i in range(M):\n",
    "        for j in range(max(i - 2 * N + 2,0), min(i + 2 * N - 1, M)):\n",
    "            if j < i:\n",
    "                A[i, j] = A[j, i]\n",
    "            else:\n",
    "                # j / 2^p 到 (2N-1+i) / 2^p 积分 复化梯形 两侧均为0无需乘1/2\n",
    "                x = j / 2 ** p + np.array(range((2 * N - 1 + i - j) * 2 ** m + 1)) / 2 ** (m + p)\n",
    "                A[i, j] = np.sum(alpha(x) * dphi[0:(2*N-1+i-j)*2**m+1] * dphi[(j-i)*2**m:] \\\n",
    "                    + beta(x) * phi[0:(2*N-1+i-j)*2**m+1] * phi[(j-i)*2**m:])\n",
    "                A[i, j] = A[i, j] / 2 ** (m + p)\n",
    "    \n",
    "    F = np.zeros(M)\n",
    "    k = (d - c) / (2 * N - 1)\n",
    "    for i in range(M):\n",
    "        x = i / 2 ** p + np.array(range((2 * N - 1) * 2 ** m + 1)) / 2 ** (m + p)\n",
    "        # 计算 fv 积分\n",
    "        F[i] = np.sum(f(x) * phi) / 2 ** (m + p)\n",
    "        # 计算 A(u0, v)\n",
    "        F[i] -= np.sum(alpha(x) * dphi * k + beta(x) * (k * x + c) * phi) / 2 ** (m + p)\n",
    "\n",
    "    # ci 代表 dbN_p, i 的系数, i 从 0 到 2^p(2N-1) - 2N + 1\n",
    "    C = np.linalg.solve(A, F)\n",
    "    \n",
    "    # 重构 v\n",
    "    v = np.zeros((2 * N - 1) * 2 ** (p + m) + 1)\n",
    "    for i in range(M):\n",
    "        v[2 ** m * i:2 ** m * (2 * N - 1 + i) + 1] += C[i] * phi\n",
    "    \n",
    "    x = np.array(range((2 * N - 1) * 2 ** (p + m) + 1)) / 2 ** (m + p)\n",
    "    return v + k * x + c"
   ]
  },
  {
   "cell_type": "markdown",
   "metadata": {},
   "source": [
    "### 区间归一化"
   ]
  },
  {
   "cell_type": "code",
   "execution_count": 411,
   "metadata": {},
   "outputs": [],
   "source": [
    "def wavelet_solve(alpha, beta, f, a : float, b : float, c : float, d : float, N : int, p : int, m : int):\n",
    "    # v(x) = u( a + x * (b - a) / (2N - 1) )\n",
    "    def alpha0(x):\n",
    "        return alpha(a + x * (b - a) / (2 * N - 1)) * (2 * N - 1) ** 2 / (b - a) ** 2\n",
    "    def beta0(x):\n",
    "        return beta(a + x * (b - a) / (2 * N - 1))\n",
    "    def f0(x):\n",
    "        return f(a + x * (b - a) / (2 * N - 1))\n",
    "    # 虽然数组每个位置对应的 x 不同，但数组区间无需处理\n",
    "    v = simple_wavelet_solve(alpha0, beta0, f0, c, d, N, p, m)\n",
    "    return v"
   ]
  },
  {
   "cell_type": "code",
   "execution_count": 412,
   "metadata": {},
   "outputs": [
    {
     "data": {
      "image/png": "[encoded data removed]",
      "text/plain": [
       "<Figure size 640x480 with 1 Axes>"
      ]
     },
     "metadata": {},
     "output_type": "display_data"
    },
    {
     "name": "stdout",
     "output_type": "stream",
     "text": [
      "L2 Error: 0.0072468496500259615\n"
     ]
    }
   ],
   "source": [
    "N = 4\n",
    "p = 6\n",
    "m = 10\n",
    "res = wavelet_solve(alpha, beta, f, a, b, c, d, N, p, m)\n",
    "x = a + np.array(range(2 ** (m + p) * (2 * N - 1) + 1)) * (b - a) / (2 ** (m + p) * (2 * N - 1))\n",
    "\n",
    "from matplotlib import pyplot as plt\n",
    "plt.plot(x, res)\n",
    "plt.plot(x, 4 * np.sin(np.pi * x / 6) + np.sin(np.pi * x / 2))\n",
    "plt.show()\n",
    "\n",
    "def l2err(res, real, a, b):\n",
    "    l = b - a\n",
    "    err = real - res\n",
    "    err = err ** 2\n",
    "    s = (np.sum(err) - (err[0] + err[-1]) / 2) / err.size * l\n",
    "    return np.sqrt(s)\n",
    "\n",
    "print(\"L2 Error: \" + str(l2err(res, 4 * np.sin(np.pi * x / 6) + np.sin(np.pi * x / 2), a, b)))\n"
   ]
  }
 ],
 "metadata": {
  "kernelspec": {
   "display_name": "base",
   "language": "python",
   "name": "python3"
  },
  "language_info": {
   "codemirror_mode": {
    "name": "ipython",
    "version": 3
   },
   "file_extension": ".py",
   "mimetype": "text/x-python",
   "name": "python",
   "nbconvert_exporter": "python",
   "pygments_lexer": "ipython3",
   "version": "3.9.16"
  }
 },
 "nbformat": 4,
 "nbformat_minor": 2
}
